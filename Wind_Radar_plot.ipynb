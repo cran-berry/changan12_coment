{
 "cells": [
  {
   "cell_type": "markdown",
   "metadata": {},
   "source": [
    "# 风玫瑰 and 雷达"
   ]
  },
  {
   "cell_type": "code",
   "execution_count": null,
   "metadata": {},
   "outputs": [],
   "source": [
    "#data\n",
    "figsize = 5\n",
    "size = 6\n",
    "width = 2 * np.pi / size - 0.05\n",
    "kinds = [\"slow\", \"middle\", \"fast\"]\n",
    "data = pd.DataFrame({kind: np.random.rand(size) for kind in kinds})\n",
    "data[\"idx\"] = np.linspace(0, 2 * np.pi, size, endpoint=False)\n",
    "df = pd.melt(data, id_vars=\"idx\", var_name=\"speed\", value_name=\"theta\")\n",
    "\n",
    "def mybar(x, height, color, **kwargs):\n",
    "    cmap = sns.light_palette(color, as_cmap=True)\n",
    "    plt.bar(x, height, color=cmap(height), **kwargs)\n",
    "def mybar_(x, height, color, **kwargs):\n",
    "    cmap = lambda x: plt.cm.hot_r(x / 2.)\n",
    "    plt.bar(x, height, color=cmap(height), **kwargs)\n",
    "\n",
    "grid = sns.FacetGrid(df, col=\"speed\", hue=\"speed\", sharex=False, sharey=False, despine=False,\n",
    "                     height=figsize, subplot_kws={\"projection\":\"polar\"})\n",
    "grid.map(mybar, \"idx\", \"theta\", alpha=0.6, width=width)\n",
    "for ax in grid.axes.flat:\n",
    "#     ax.grid(False)\n",
    "#     ax.axis(\"off\")\n",
    "    ax.set_rlabel_position(90)\n",
    "#     ax.set_rgrids(np.arange(0.2,1.0,0.4))\n",
    "#     ax.set_thetagrids(np.arange(0.0, 360.0, 30.0))\n",
    "#     ax.set_theta_zero_location('N')\n",
    "plt.show()"
   ]
  },
  {
   "cell_type": "code",
   "execution_count": null,
   "metadata": {},
   "outputs": [],
   "source": [
    "figsize = 3.5\n",
    "myfont = matplotlib.font_manager.FontProperties(fname=\"/home/zh/my_font/msyh.ttc\")\n",
    "radar_labels = ('研究型(I)','艺术型(A)','社会型(S)', '企业型(E)','常规型(C)','现实型(R)')  # 雷达标签,极角标签\n",
    "people_labels = ('艺术家', '实验员', '工程师', '推销员', '社会工作者','记事员')  # 从业人员\n",
    "size = len(radar_labels)\n",
    "data = pd.DataFrame({label: np.random.rand(size) for label in people_labels})\n",
    "data[\"angle\"] = np.linspace(0, 2 * np.pi, size, endpoint=False)\n",
    "data = data.append(data.iloc[0], ignore_index=True)\n",
    "# data = pd.concat([data, data.iloc[[0]]], ignore_index=True)\n",
    "df = pd.melt(data, id_vars=\"angle\", var_name=\"label\", value_name=\"index\")\n",
    "\n",
    "def helper(x, color, **kwargs):\n",
    "    plt.thetagrids(x * 180 / np.pi, **kwargs)\n",
    "\n",
    "grid = sns.FacetGrid(df, col=\"label\", hue=\"label\", sharex=False, sharey=False, despine=False,\n",
    "                     height=figsize, subplot_kws={\"projection\":\"polar\"}, col_wrap=3)\n",
    "grid.map(plt.plot, \"angle\", \"index\", linewidth=2, alpha=0.9, marker=\"o\")\n",
    "grid.map(plt.fill, \"angle\", \"index\", alpha=0.25)\n",
    "grid.map(helper, \"angle\", fontproperties=myfont, labels=radar_labels)\n",
    "grid.add_legend(prop=myfont)\n",
    "grid.set_titles(fontproperties=myfont)\n",
    "# legend = plt.legend(legend_labels, loc=(0.94, 0.80), labelspacing=0.1, prop=myfont)\n",
    "plt.show()"
   ]
  }
 ],
 "metadata": {
  "kernelspec": {
   "display_name": "Python 3",
   "language": "python",
   "name": "python3"
  },
  "language_info": {
   "codemirror_mode": {
    "name": "ipython",
    "version": 3
   },
   "file_extension": ".py",
   "mimetype": "text/x-python",
   "name": "python",
   "nbconvert_exporter": "python",
   "pygments_lexer": "ipython3",
   "version": "3.6.5"
  }
 },
 "nbformat": 4,
 "nbformat_minor": 2
}
